{
 "cells": [
  {
   "cell_type": "code",
   "outputs": [],
   "source": [
    "import pandas as pd\n",
    "import time\n",
    "import os"
   ],
   "metadata": {
    "collapsed": false,
    "ExecuteTime": {
     "end_time": "2024-01-09T03:21:01.523575Z",
     "start_time": "2024-01-09T03:21:01.521531200Z"
    }
   },
   "id": "3758ef8116838d86",
   "execution_count": 9
  },
  {
   "cell_type": "code",
   "outputs": [],
   "source": [
    "data_oct = '../data/2019-Oct.csv'\n",
    "data_nov = '../data/2019-Nov.csv'\n",
    "\n",
    "timing_path = '../stats/timings.csv'"
   ],
   "metadata": {
    "collapsed": false,
    "ExecuteTime": {
     "end_time": "2024-01-09T03:22:25.138433800Z",
     "start_time": "2024-01-09T03:22:24.118133900Z"
    }
   },
   "id": "49c2abeece9abecb",
   "execution_count": 10
  },
  {
   "cell_type": "code",
   "outputs": [],
   "source": [
    "if os.path.exists(timing_path):\n",
    "    timing = pd.read_csv(timing_path, index_col=0)\n",
    "else:\n",
    "    timing = pd.DataFrame(columns= ['Timing_pandas', 'Timing_polars'])"
   ],
   "metadata": {
    "collapsed": false,
    "ExecuteTime": {
     "end_time": "2024-01-09T03:24:27.781121300Z",
     "start_time": "2024-01-09T03:24:27.778586900Z"
    }
   },
   "id": "ba9f889f1f8c5126",
   "execution_count": 11
  },
  {
   "cell_type": "markdown",
   "source": [
    "1. Lecture des deux jeux de données et concaténation dans un seul dataset"
   ],
   "metadata": {
    "collapsed": false
   },
   "id": "b925ad3395ce0b1a"
  },
  {
   "cell_type": "code",
   "outputs": [
    {
     "name": "stdout",
     "output_type": "stream",
     "text": [
      "Temps d'exécution de l'excercice 1 : 83.4 secondes\n"
     ]
    }
   ],
   "source": [
    "ex = 1\n",
    "start_time = time.time()\n",
    "\n",
    "raw_data_oct = pd.read_csv(data_oct)\n",
    "raw_data_nov = pd.read_csv(data_nov)\n",
    "\n",
    "data = pd.concat([raw_data_oct, raw_data_nov])\n",
    "\n",
    "end_time = time.time()\n",
    "execution_time = round(end_time - start_time, 2)\n",
    "timing.loc[ex, 'Timing_pandas'] = execution_time\n",
    "\n",
    "print(f\"Temps d'exécution de l'excercice {ex} : {execution_time} secondes\")"
   ],
   "metadata": {
    "collapsed": false,
    "ExecuteTime": {
     "end_time": "2024-01-09T03:32:09.753765400Z",
     "start_time": "2024-01-09T03:30:46.353234600Z"
    }
   },
   "id": "eb09e6a33c234148",
   "execution_count": 12
  },
  {
   "cell_type": "markdown",
   "source": [
    "2.\tAffichage d'informations basiques du jeu de données : quantité de lignes, colonnes, types des données, etc."
   ],
   "metadata": {
    "collapsed": false
   },
   "id": "dffe774858f9cbea"
  },
  {
   "cell_type": "code",
   "outputs": [
    {
     "name": "stdout",
     "output_type": "stream",
     "text": [
      "Quantité des lignes : 109950743\n",
      "                event_time event_type  product_id          category_id  \\\n",
      "0  2019-10-01 00:00:00 UTC       view    44600062  2103807459595387724   \n",
      "1  2019-10-01 00:00:00 UTC       view     3900821  2053013552326770905   \n",
      "2  2019-10-01 00:00:01 UTC       view    17200506  2053013559792632471   \n",
      "3  2019-10-01 00:00:01 UTC       view     1307067  2053013558920217191   \n",
      "4  2019-10-01 00:00:04 UTC       view     1004237  2053013555631882655   \n",
      "\n",
      "                         category_code     brand    price    user_id  \\\n",
      "0                                  NaN  shiseido    35.79  541312140   \n",
      "1  appliances.environment.water_heater      aqua    33.20  554748717   \n",
      "2           furniture.living_room.sofa       NaN   543.10  519107250   \n",
      "3                   computers.notebook    lenovo   251.74  550050854   \n",
      "4               electronics.smartphone     apple  1081.98  535871217   \n",
      "\n",
      "                           user_session  \n",
      "0  72d76fde-8bb3-4e00-8c23-a032dfed738c  \n",
      "1  9333dfbd-b87a-4708-9857-6336556b0fcc  \n",
      "2  566511c2-e2e3-422b-b695-cf8e6e792ca8  \n",
      "3  7c90fc70-0e80-4590-96f3-13c02c18c713  \n",
      "4  c6bd7419-2748-4c56-95b4-8cec9ff8b80d  \n",
      "<class 'pandas.core.frame.DataFrame'>\n",
      "Index: 109950743 entries, 0 to 67501978\n",
      "Data columns (total 9 columns):\n",
      " #   Column         Dtype  \n",
      "---  ------         -----  \n",
      " 0   event_time     object \n",
      " 1   event_type     object \n",
      " 2   product_id     int64  \n",
      " 3   category_id    int64  \n",
      " 4   category_code  object \n",
      " 5   brand          object \n",
      " 6   price          float64\n",
      " 7   user_id        int64  \n",
      " 8   user_session   object \n",
      "dtypes: float64(1), int64(3), object(5)\n",
      "memory usage: 8.2+ GB\n",
      "None\n",
      "         product_id   category_id         price       user_id\n",
      "count  1.099507e+08  1.099507e+08  1.099507e+08  1.099507e+08\n",
      "mean   1.175577e+07  2.057707e+18  2.916348e+02  5.366698e+08\n",
      "std    1.543564e+07  1.949326e+16  3.566800e+02  2.145173e+07\n",
      "min    1.000365e+06  2.053014e+18  0.000000e+00  1.030022e+07\n",
      "25%    1.005256e+06  2.053014e+18  6.796000e+01  5.162629e+08\n",
      "50%    5.100396e+06  2.053014e+18  1.649300e+02  5.326415e+08\n",
      "75%    1.720051e+07  2.053014e+18  3.601100e+02  5.563312e+08\n",
      "max    1.000286e+08  2.187708e+18  2.574070e+03  5.799699e+08\n",
      "Temps d'exécution de l'excercice 2 : 8.81 secondes\n"
     ]
    }
   ],
   "source": [
    "ex = 2\n",
    "start_time = time.time()\n",
    "\n",
    "print(f\"Quantité des lignes : {len(data)}\")\n",
    "\n",
    "print(data.head())\n",
    "\n",
    "print(data.info())\n",
    "\n",
    "print(data.describe())\n",
    "\n",
    "end_time = time.time()\n",
    "execution_time = round(end_time - start_time, 2)\n",
    "timing.loc[ex, 'Timing_pandas'] = execution_time\n",
    "\n",
    "print(f\"Temps d'exécution de l'excercice {ex} : {execution_time} secondes\")"
   ],
   "metadata": {
    "collapsed": false,
    "ExecuteTime": {
     "end_time": "2024-01-09T03:35:49.379488100Z",
     "start_time": "2024-01-09T03:35:40.564054100Z"
    }
   },
   "id": "d7f36c4d2bcaaecb",
   "execution_count": 13
  },
  {
   "cell_type": "markdown",
   "source": [
    "3.\tAffichage de la quantité de produits, marques et utilisateurs dans le dataset, sans répétitions"
   ],
   "metadata": {
    "collapsed": false
   },
   "id": "369aa25a33bc81da"
  },
  {
   "cell_type": "code",
   "outputs": [
    {
     "name": "stdout",
     "output_type": "stream",
     "text": [
      "Quantité de produits uniques dans le dataset : 206876\n",
      "Quantité de marques uniques dans le dataset : 4303\n",
      "Quantité d'utilisateurs uniques dans le dataset : 5316649\n",
      "Temps d'exécution de l'excercice 3 : 6.31 secondes\n"
     ]
    }
   ],
   "source": [
    "ex = 3\n",
    "start_time = time.time()\n",
    "\n",
    "print(f\"Quantité de produits uniques dans le dataset : {len(data['product_id'].unique())}\")\n",
    "print(f\"Quantité de marques uniques dans le dataset : {len(data['brand'].unique())}\")\n",
    "print(f\"Quantité d'utilisateurs uniques dans le dataset : {len(data['user_id'].unique())}\")\n",
    "\n",
    "end_time = time.time()\n",
    "execution_time = round(end_time - start_time, 2)\n",
    "timing.loc[ex, 'Timing_pandas'] = execution_time\n",
    "\n",
    "print(f\"Temps d'exécution de l'excercice {ex} : {execution_time} secondes\")"
   ],
   "metadata": {
    "collapsed": false,
    "ExecuteTime": {
     "end_time": "2024-01-09T03:42:06.649740400Z",
     "start_time": "2024-01-09T03:42:00.334205Z"
    }
   },
   "id": "9eea3bc34bbc9e0",
   "execution_count": 14
  },
  {
   "cell_type": "markdown",
   "source": [
    "4. Affichage du top 5 de marques et catégories avec le prix moyen le plus élevé"
   ],
   "metadata": {
    "collapsed": false
   },
   "id": "1d3689048bc20194"
  },
  {
   "cell_type": "code",
   "outputs": [
    {
     "name": "stdout",
     "output_type": "stream",
     "text": [
      "                   price\n",
      "                    mean\n",
      "brand                   \n",
      "pinarello    2533.238401\n",
      "nordictrack  2522.590000\n",
      "kessler      2372.000000\n",
      "yjfitness    2344.980000\n",
      "climadiff    2261.951167\n",
      "                           price\n",
      "                            mean\n",
      "category_id                     \n",
      "2104564977263182827  1673.140000\n",
      "2059484601444729123  1666.933341\n",
      "2053013564523807647  1527.039375\n",
      "2144356630513320518  1489.794378\n",
      "2179887855134835524  1381.505340\n",
      "Temps d'exécution de l'excercice 4 : 6.1 secondes\n"
     ]
    }
   ],
   "source": [
    "ex = 4\n",
    "start_time = time.time()\n",
    "\n",
    "result_brand = data.groupby('brand').agg({'price' : ['mean']})\n",
    "result_brand.sort_values(by=('price', 'mean'), ascending=False, inplace=True)\n",
    "print(result_brand.head())\n",
    "\n",
    "result_category = data.groupby('category_id').agg({'price' : ['mean']})\n",
    "result_category.sort_values(by=('price', 'mean'), ascending=False, inplace=True)\n",
    "print(result_category.head())\n",
    "\n",
    "end_time = time.time()\n",
    "execution_time = round(end_time - start_time, 2)\n",
    "timing.loc[ex, 'Timing_pandas'] = execution_time\n",
    "\n",
    "print(f\"Temps d'exécution de l'excercice {ex} : {execution_time} secondes\")"
   ],
   "metadata": {
    "collapsed": false,
    "ExecuteTime": {
     "end_time": "2024-01-09T03:47:36.472944200Z",
     "start_time": "2024-01-09T03:47:30.362269600Z"
    }
   },
   "id": "5d4fccb6c35f21f6",
   "execution_count": 15
  },
  {
   "cell_type": "markdown",
   "source": [
    "5.\tCalcul du min, du max et de la moyenne de prix par marque et par catégorie"
   ],
   "metadata": {
    "collapsed": false
   },
   "id": "fcd2af7ef8ec87c7"
  },
  {
   "cell_type": "code",
   "outputs": [
    {
     "name": "stdout",
     "output_type": "stream",
     "text": [
      "          price                   \n",
      "            min     max       mean\n",
      "brand                             \n",
      "a-case     1.21  154.44  12.142794\n",
      "a-derma    5.15   22.39  13.906379\n",
      "a-elita    8.49   73.28  45.051727\n",
      "a-mega    25.74  218.80  84.286734\n",
      "aardwolf   8.98   84.43  39.057414\n",
      "                    price                     \n",
      "                      min      max        mean\n",
      "category_id                                   \n",
      "2053013552226107603  5.12   804.63   57.352906\n",
      "2053013552259662037  0.00  2548.33  545.274962\n",
      "2053013552293216471  0.00  1876.56   57.092524\n",
      "2053013552326770905  0.00  2074.21  109.120727\n",
      "2053013552351936731  0.00  2412.45  386.428947\n",
      "Temps d'exécution de l'excercice 5 : 6.76 secondes\n"
     ]
    }
   ],
   "source": [
    "ex = 5\n",
    "start_time = time.time()\n",
    "\n",
    "result_brand_price = data.groupby('brand').agg({'price' : ['min', 'max', 'mean']})\n",
    "print(result_brand_price.head())\n",
    "\n",
    "result_category_price = data.groupby('category_id').agg({'price' : ['min', 'max', 'mean']})\n",
    "print(result_category_price.head())\n",
    "\n",
    "end_time = time.time()\n",
    "execution_time = round(end_time - start_time, 2)\n",
    "timing.loc[ex, 'Timing_pandas'] = execution_time\n",
    "\n",
    "print(f\"Temps d'exécution de l'excercice {ex} : {execution_time} secondes\")"
   ],
   "metadata": {
    "collapsed": false,
    "ExecuteTime": {
     "end_time": "2024-01-09T03:52:57.861893500Z",
     "start_time": "2024-01-09T03:52:51.094257900Z"
    }
   },
   "id": "e6868f66f0eb5419",
   "execution_count": 17
  },
  {
   "cell_type": "markdown",
   "source": [
    "6.\tAffichage des 5 prix les plus élevés"
   ],
   "metadata": {
    "collapsed": false
   },
   "id": "c318360dfb2ceb99"
  },
  {
   "cell_type": "code",
   "outputs": [
    {
     "name": "stdout",
     "output_type": "stream",
     "text": [
      "2574.07\n",
      "2574.04\n",
      "2573.99\n",
      "2573.81\n",
      "2573.79\n",
      "Temps d'exécution de l'excercice 6 : 0.83 secondes\n"
     ]
    }
   ],
   "source": [
    "ex = 6\n",
    "start_time = time.time()\n",
    "\n",
    "result_price = data['price'].drop_duplicates().sort_values(ascending=False)\n",
    "print(result_price.head().to_string(index=False))\n",
    "\n",
    "end_time = time.time()\n",
    "execution_time = round(end_time - start_time, 2)\n",
    "timing.loc[ex, 'Timing_pandas'] = execution_time\n",
    "\n",
    "print(f\"Temps d'exécution de l'excercice {ex} : {execution_time} secondes\")"
   ],
   "metadata": {
    "collapsed": false,
    "ExecuteTime": {
     "end_time": "2024-01-09T04:09:55.418213900Z",
     "start_time": "2024-01-09T04:09:54.581202Z"
    }
   },
   "id": "83c31f35a50aacda",
   "execution_count": 19
  },
  {
   "cell_type": "markdown",
   "source": [
    "7.\tAffichage de la quantité d’articles par marque et par catégorie, en utilisant une fonction d’agrégation"
   ],
   "metadata": {
    "collapsed": false
   },
   "id": "2404fa7db23a5e3c"
  },
  {
   "cell_type": "code",
   "outputs": [
    {
     "name": "stdout",
     "output_type": "stream",
     "text": [
      "         product_id\n",
      "              count\n",
      "brand              \n",
      "a-case        19503\n",
      "a-derma         729\n",
      "a-elita         521\n",
      "a-mega         1384\n",
      "aardwolf        526\n",
      "                    product_id\n",
      "                         count\n",
      "category_id                   \n",
      "2053013552226107603       5644\n",
      "2053013552259662037     302746\n",
      "2053013552293216471     444842\n",
      "2053013552326770905     354845\n",
      "2053013552351936731     140952\n",
      "Temps d'exécution de l'excercice 7 : 5.58 secondes\n"
     ]
    }
   ],
   "source": [
    "ex = 7\n",
    "start_time = time.time()\n",
    "\n",
    "result_brand_qty = data.groupby('brand').agg({'product_id' : ['count']})\n",
    "print(result_brand_qty.head())\n",
    "\n",
    "result_category_qty = data.groupby('category_id').agg({'product_id' : ['count']})\n",
    "print(result_category_qty.head())\n",
    "\n",
    "end_time = time.time()\n",
    "execution_time = round(end_time - start_time, 2)\n",
    "timing.loc[ex, 'Timing_pandas'] = execution_time\n",
    "\n",
    "print(f\"Temps d'exécution de l'excercice {ex} : {execution_time} secondes\")"
   ],
   "metadata": {
    "collapsed": false,
    "ExecuteTime": {
     "end_time": "2024-01-09T04:12:17.838498100Z",
     "start_time": "2024-01-09T04:12:12.255767500Z"
    }
   },
   "id": "f531d8a1c09718c7",
   "execution_count": 20
  },
  {
   "cell_type": "markdown",
   "source": [
    "8. Affichage de la quantité d’événements par type, en utilisant une fonction d’agrégation"
   ],
   "metadata": {
    "collapsed": false
   },
   "id": "aba643e2c26d3eb9"
  },
  {
   "cell_type": "code",
   "outputs": [
    {
     "name": "stdout",
     "output_type": "stream",
     "text": [
      "  Event_type  Event_qty\n",
      "0       cart    3955446\n",
      "1   purchase    1659788\n",
      "2       view  104335509\n",
      "Temps d'exécution de l'excercice 8 : 4.33 secondes\n"
     ]
    }
   ],
   "source": [
    "ex = 8\n",
    "start_time = time.time()\n",
    "\n",
    "result_event_type = data.groupby('event_type').agg({'event_time' : ['count']}).reset_index()\n",
    "result_event_type.columns = ['Event_type', 'Event_qty']\n",
    "print(result_event_type.head())\n",
    "\n",
    "end_time = time.time()\n",
    "execution_time = round(end_time - start_time, 2)\n",
    "timing.loc[ex, 'Timing_pandas'] = execution_time\n",
    "\n",
    "print(f\"Temps d'exécution de l'excercice {ex} : {execution_time} secondes\")"
   ],
   "metadata": {
    "collapsed": false,
    "ExecuteTime": {
     "end_time": "2024-01-09T04:18:59.807046700Z",
     "start_time": "2024-01-09T04:18:55.475063Z"
    }
   },
   "id": "7cc799d525d1a59d",
   "execution_count": 22
  },
  {
   "cell_type": "markdown",
   "source": [
    "9.\tCréation et affichage d'un tableau contenant la quantité d’événements de chaque type par marque"
   ],
   "metadata": {
    "collapsed": false
   },
   "id": "8f52784cadca177"
  },
  {
   "cell_type": "code",
   "outputs": [
    {
     "name": "stdout",
     "output_type": "stream",
     "text": [
      "  Event_type     Brand  Event_qty\n",
      "0       cart    a-case        326\n",
      "1       cart   a-derma         23\n",
      "2       cart   a-elita          8\n",
      "3       cart    a-mega         29\n",
      "4       cart  aardwolf         13\n",
      "Temps d'exécution de l'excercice 9 : 10.72 secondes\n"
     ]
    }
   ],
   "source": [
    "ex = 9\n",
    "start_time = time.time()\n",
    "\n",
    "result_event_type_brand = data.groupby(['event_type', 'brand']).agg({'event_time' : ['count']}).reset_index()\n",
    "result_event_type_brand.columns = ['Event_type', 'Brand', 'Event_qty']\n",
    "print(result_event_type_brand.head())\n",
    "\n",
    "end_time = time.time()\n",
    "execution_time = round(end_time - start_time, 2)\n",
    "timing.loc[ex, 'Timing_pandas'] = execution_time\n",
    "\n",
    "print(f\"Temps d'exécution de l'excercice {ex} : {execution_time} secondes\")"
   ],
   "metadata": {
    "collapsed": false,
    "ExecuteTime": {
     "end_time": "2024-01-09T04:21:55.013052600Z",
     "start_time": "2024-01-09T04:21:44.286975400Z"
    }
   },
   "id": "7083a1b8d9891aae",
   "execution_count": 23
  },
  {
   "cell_type": "markdown",
   "source": [
    "10. Création et affichage d'un tableau contenant  la quantité d’événements de chaque type par marque et utilisateur"
   ],
   "metadata": {
    "collapsed": false
   },
   "id": "c0b2466b9235286b"
  },
  {
   "cell_type": "code",
   "outputs": [
    {
     "name": "stdout",
     "output_type": "stream",
     "text": [
      "  Event_type   Brand       User  Event_qty\n",
      "0       cart  a-case  512417359          1\n",
      "1       cart  a-case  512842481          1\n",
      "2       cart  a-case  512848407          1\n",
      "3       cart  a-case  512885998          1\n",
      "4       cart  a-case  512993513          2\n",
      "Temps d'exécution de l'excercice 10 : 28.13 secondes\n"
     ]
    }
   ],
   "source": [
    "ex = 10\n",
    "start_time = time.time()\n",
    "\n",
    "result_event_type_brand_user = data.groupby(['event_type', 'brand', 'user_id']).agg({'event_time' : ['count']}).reset_index()\n",
    "result_event_type_brand_user.columns = ['Event_type', 'Brand', 'User', 'Event_qty']\n",
    "print(result_event_type_brand_user.head())\n",
    "\n",
    "end_time = time.time()\n",
    "execution_time = round(end_time - start_time, 2)\n",
    "timing.loc[ex, 'Timing_pandas'] = execution_time\n",
    "\n",
    "print(f\"Temps d'exécution de l'excercice {ex} : {execution_time} secondes\")"
   ],
   "metadata": {
    "collapsed": false,
    "ExecuteTime": {
     "end_time": "2024-01-09T04:27:08.901264500Z",
     "start_time": "2024-01-09T04:26:40.765083Z"
    }
   },
   "id": "105a64d7f55479f2",
   "execution_count": 24
  },
  {
   "cell_type": "markdown",
   "source": [
    "11. Affichage du pourcentage de données vides ou nulles (valeurs manquantes) par colonne"
   ],
   "metadata": {
    "collapsed": false
   },
   "id": "2ba16178776e4171"
  },
  {
   "cell_type": "code",
   "outputs": [
    {
     "name": "stdout",
     "output_type": "stream",
     "text": [
      "Valeurs vides dans la colonne event_time : 0 -> 0.0%\n",
      "Valeurs vides dans la colonne event_type : 0 -> 0.0%\n",
      "Valeurs vides dans la colonne product_id : 0 -> 0.0%\n",
      "Valeurs vides dans la colonne category_id : 0 -> 0.0%\n",
      "Valeurs vides dans la colonne category_code : 35413780 -> 32.21%\n",
      "Valeurs vides dans la colonne brand : 15341158 -> 13.95%\n",
      "Valeurs vides dans la colonne price : 0 -> 0.0%\n",
      "Valeurs vides dans la colonne user_id : 0 -> 0.0%\n",
      "Valeurs vides dans la colonne user_session : 12 -> 0.0%\n",
      "Temps d'exécution de l'excercice 11 : 8.79 secondes\n"
     ]
    }
   ],
   "source": [
    "ex = 11\n",
    "start_time = time.time()\n",
    "\n",
    "total = len(data)\n",
    "for col in data.columns:\n",
    "    is_na = data[col].isna().sum()\n",
    "    print(f\"Valeurs vides dans la colonne {col} : {is_na} -> {round(is_na*100/total, 2)}%\")\n",
    "\n",
    "end_time = time.time()\n",
    "execution_time = round(end_time - start_time, 2)\n",
    "timing.loc[ex, 'Timing_pandas'] = execution_time\n",
    "\n",
    "print(f\"Temps d'exécution de l'excercice {ex} : {execution_time} secondes\")"
   ],
   "metadata": {
    "collapsed": false,
    "ExecuteTime": {
     "end_time": "2024-01-09T04:46:59.238360600Z",
     "start_time": "2024-01-09T04:46:50.441563800Z"
    }
   },
   "id": "ff5d4f96917b2c18",
   "execution_count": 32
  },
  {
   "cell_type": "markdown",
   "source": [
    "12. Suppression de lignes vides sur l’ensemble de colonnes où le total de valeurs manquants ne dépasse pas un 15%"
   ],
   "metadata": {
    "collapsed": false
   },
   "id": "17f9f65592db5b60"
  },
  {
   "cell_type": "code",
   "outputs": [
    {
     "name": "stdout",
     "output_type": "stream",
     "text": [
      "Lignes avant suppression : 109950743\n",
      "Lignes après suppression : 94609575\n",
      "Temps d'exécution de l'excercice 12 : 20.26 secondes\n"
     ]
    }
   ],
   "source": [
    "ex = 12\n",
    "start_time = time.time()\n",
    "\n",
    "total = len(data)\n",
    "print(f\"Lignes avant suppression : {total}\")\n",
    "col_to_del = []\n",
    "\n",
    "for col in data.columns:\n",
    "    is_na_per = data[col].isna().sum()*100/total\n",
    "    if is_na_per != 0 and is_na_per <= 15:\n",
    "        col_to_del.append(col)\n",
    "\n",
    "print(f\"Colonnes à filtrer : {col_to_del}\")\n",
    "filtered_data = data.dropna(subset=col_to_del)\n",
    "total = len(filtered_data)\n",
    "print(f\"Lignes après suppression : {total}\")\n",
    "\n",
    "end_time = time.time()\n",
    "execution_time = round(end_time - start_time, 2)\n",
    "timing.loc[ex, 'Timing_pandas'] = execution_time\n",
    "\n",
    "print(f\"Temps d'exécution de l'excercice {ex} : {execution_time} secondes\")"
   ],
   "metadata": {
    "collapsed": false,
    "ExecuteTime": {
     "end_time": "2024-01-09T04:52:16.657906900Z",
     "start_time": "2024-01-09T04:51:56.391577400Z"
    }
   },
   "id": "2c87fa7f09b443e2",
   "execution_count": 33
  },
  {
   "cell_type": "code",
   "outputs": [
    {
     "data": {
      "text/plain": "   Timing_pandas Timing_polars\n1           83.4           NaN\n2           8.81           NaN\n3           6.31           NaN\n4            6.1           NaN\n5           6.76           NaN\n6           0.83           NaN\n7           5.58           NaN\n8           4.33           NaN\n9          10.72           NaN\n10         28.13           NaN\n11          8.79           NaN\n12         20.26           NaN",
      "text/html": "<div>\n<style scoped>\n    .dataframe tbody tr th:only-of-type {\n        vertical-align: middle;\n    }\n\n    .dataframe tbody tr th {\n        vertical-align: top;\n    }\n\n    .dataframe thead th {\n        text-align: right;\n    }\n</style>\n<table border=\"1\" class=\"dataframe\">\n  <thead>\n    <tr style=\"text-align: right;\">\n      <th></th>\n      <th>Timing_pandas</th>\n      <th>Timing_polars</th>\n    </tr>\n  </thead>\n  <tbody>\n    <tr>\n      <th>1</th>\n      <td>83.4</td>\n      <td>NaN</td>\n    </tr>\n    <tr>\n      <th>2</th>\n      <td>8.81</td>\n      <td>NaN</td>\n    </tr>\n    <tr>\n      <th>3</th>\n      <td>6.31</td>\n      <td>NaN</td>\n    </tr>\n    <tr>\n      <th>4</th>\n      <td>6.1</td>\n      <td>NaN</td>\n    </tr>\n    <tr>\n      <th>5</th>\n      <td>6.76</td>\n      <td>NaN</td>\n    </tr>\n    <tr>\n      <th>6</th>\n      <td>0.83</td>\n      <td>NaN</td>\n    </tr>\n    <tr>\n      <th>7</th>\n      <td>5.58</td>\n      <td>NaN</td>\n    </tr>\n    <tr>\n      <th>8</th>\n      <td>4.33</td>\n      <td>NaN</td>\n    </tr>\n    <tr>\n      <th>9</th>\n      <td>10.72</td>\n      <td>NaN</td>\n    </tr>\n    <tr>\n      <th>10</th>\n      <td>28.13</td>\n      <td>NaN</td>\n    </tr>\n    <tr>\n      <th>11</th>\n      <td>8.79</td>\n      <td>NaN</td>\n    </tr>\n    <tr>\n      <th>12</th>\n      <td>20.26</td>\n      <td>NaN</td>\n    </tr>\n  </tbody>\n</table>\n</div>"
     },
     "execution_count": 40,
     "metadata": {},
     "output_type": "execute_result"
    }
   ],
   "source": [
    "timing"
   ],
   "metadata": {
    "collapsed": false,
    "ExecuteTime": {
     "end_time": "2024-01-09T04:59:16.288752200Z",
     "start_time": "2024-01-09T04:59:16.283722700Z"
    }
   },
   "id": "ca3971ad4e4d7eee",
   "execution_count": 40
  },
  {
   "cell_type": "code",
   "outputs": [],
   "source": [
    "timing.to_csv(timing_path)"
   ],
   "metadata": {
    "collapsed": false,
    "ExecuteTime": {
     "end_time": "2024-01-09T04:59:58.477879900Z",
     "start_time": "2024-01-09T04:59:58.471515400Z"
    }
   },
   "id": "a3f2e69d354b7c29",
   "execution_count": 41
  }
 ],
 "metadata": {
  "kernelspec": {
   "display_name": "Python 3",
   "language": "python",
   "name": "python3"
  },
  "language_info": {
   "codemirror_mode": {
    "name": "ipython",
    "version": 2
   },
   "file_extension": ".py",
   "mimetype": "text/x-python",
   "name": "python",
   "nbconvert_exporter": "python",
   "pygments_lexer": "ipython2",
   "version": "2.7.6"
  }
 },
 "nbformat": 4,
 "nbformat_minor": 5
}

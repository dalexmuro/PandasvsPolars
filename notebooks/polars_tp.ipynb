{
 "cells": [
  {
   "cell_type": "code",
   "execution_count": 16,
   "id": "initial_id",
   "metadata": {
    "collapsed": true,
    "ExecuteTime": {
     "end_time": "2024-01-09T06:00:16.053791400Z",
     "start_time": "2024-01-09T06:00:16.043156300Z"
    }
   },
   "outputs": [],
   "source": [
    "import pandas as pd\n",
    "import polars as pl\n",
    "import time\n",
    "import os"
   ]
  },
  {
   "cell_type": "code",
   "outputs": [],
   "source": [
    "data_oct = '../data/2019-Oct.csv'\n",
    "data_nov = '../data/2019-Nov.csv'\n",
    "\n",
    "timing_path = '../stats/timings.csv'"
   ],
   "metadata": {
    "collapsed": false,
    "ExecuteTime": {
     "end_time": "2024-01-09T05:55:57.230805700Z",
     "start_time": "2024-01-09T05:55:57.226908500Z"
    }
   },
   "id": "7977a5bf968e723f",
   "execution_count": 4
  },
  {
   "cell_type": "code",
   "outputs": [],
   "source": [
    "if os.path.exists(timing_path):\n",
    "    timing = pd.read_csv(timing_path, index_col=0)\n",
    "else:\n",
    "    timing = pd.DataFrame(columns= ['Timing_pandas', 'Timing_polars'])"
   ],
   "metadata": {
    "collapsed": false,
    "ExecuteTime": {
     "end_time": "2024-01-09T07:44:40.398661800Z",
     "start_time": "2024-01-09T07:44:40.396964100Z"
    }
   },
   "id": "8e567cde1796a19c",
   "execution_count": 189
  },
  {
   "cell_type": "code",
   "outputs": [
    {
     "data": {
      "text/plain": "    Timing_pandas  Timing_polars\n1           83.40            NaN\n2            8.81            NaN\n3            6.31            NaN\n4            6.10            NaN\n5            6.76            NaN\n6            0.83            NaN\n7            5.58            NaN\n8            4.33            NaN\n9           10.72            NaN\n10          28.13            NaN\n11           8.79            NaN\n12          20.26            NaN",
      "text/html": "<div>\n<style scoped>\n    .dataframe tbody tr th:only-of-type {\n        vertical-align: middle;\n    }\n\n    .dataframe tbody tr th {\n        vertical-align: top;\n    }\n\n    .dataframe thead th {\n        text-align: right;\n    }\n</style>\n<table border=\"1\" class=\"dataframe\">\n  <thead>\n    <tr style=\"text-align: right;\">\n      <th></th>\n      <th>Timing_pandas</th>\n      <th>Timing_polars</th>\n    </tr>\n  </thead>\n  <tbody>\n    <tr>\n      <th>1</th>\n      <td>83.40</td>\n      <td>NaN</td>\n    </tr>\n    <tr>\n      <th>2</th>\n      <td>8.81</td>\n      <td>NaN</td>\n    </tr>\n    <tr>\n      <th>3</th>\n      <td>6.31</td>\n      <td>NaN</td>\n    </tr>\n    <tr>\n      <th>4</th>\n      <td>6.10</td>\n      <td>NaN</td>\n    </tr>\n    <tr>\n      <th>5</th>\n      <td>6.76</td>\n      <td>NaN</td>\n    </tr>\n    <tr>\n      <th>6</th>\n      <td>0.83</td>\n      <td>NaN</td>\n    </tr>\n    <tr>\n      <th>7</th>\n      <td>5.58</td>\n      <td>NaN</td>\n    </tr>\n    <tr>\n      <th>8</th>\n      <td>4.33</td>\n      <td>NaN</td>\n    </tr>\n    <tr>\n      <th>9</th>\n      <td>10.72</td>\n      <td>NaN</td>\n    </tr>\n    <tr>\n      <th>10</th>\n      <td>28.13</td>\n      <td>NaN</td>\n    </tr>\n    <tr>\n      <th>11</th>\n      <td>8.79</td>\n      <td>NaN</td>\n    </tr>\n    <tr>\n      <th>12</th>\n      <td>20.26</td>\n      <td>NaN</td>\n    </tr>\n  </tbody>\n</table>\n</div>"
     },
     "execution_count": 190,
     "metadata": {},
     "output_type": "execute_result"
    }
   ],
   "source": [
    "timing"
   ],
   "metadata": {
    "collapsed": false,
    "ExecuteTime": {
     "end_time": "2024-01-09T07:44:42.451876500Z",
     "start_time": "2024-01-09T07:44:42.449954200Z"
    }
   },
   "id": "8c147eba22ec4702",
   "execution_count": 190
  },
  {
   "cell_type": "markdown",
   "source": [
    "1. Lecture des deux jeux de données et concatenation dans un seul dataset"
   ],
   "metadata": {
    "collapsed": false
   },
   "id": "76bdb1d709a11e83"
  },
  {
   "cell_type": "code",
   "outputs": [
    {
     "name": "stdout",
     "output_type": "stream",
     "text": [
      "Temps d'exécution : 32.42 secondes\n"
     ]
    }
   ],
   "source": [
    "ex = 1\n",
    "start_time = time.time()\n",
    "\n",
    "raw_data_oct = pl.read_csv(data_oct)\n",
    "raw_data_nov = pl.read_csv(data_nov)\n",
    "\n",
    "data = pl.concat([raw_data_oct, raw_data_nov])\n",
    "\n",
    "end_time = time.time()\n",
    "execution_time = round(end_time - start_time, 2)\n",
    "timing.loc[ex, 'Timing_polars'] = execution_time\n",
    "\n",
    "print(f\"Temps d'exécution : {execution_time} secondes\")"
   ],
   "metadata": {
    "collapsed": false,
    "ExecuteTime": {
     "end_time": "2024-01-09T07:45:18.294726400Z",
     "start_time": "2024-01-09T07:44:45.865014500Z"
    }
   },
   "id": "e88c33c49cecfef9",
   "execution_count": 191
  },
  {
   "cell_type": "markdown",
   "source": [
    "2.\tAffichage d'informations basiques du jeu de données : quantité de lignes, colonnes, types des données, etc."
   ],
   "metadata": {
    "collapsed": false
   },
   "id": "d484998567bacc1f"
  },
  {
   "cell_type": "code",
   "outputs": [
    {
     "name": "stdout",
     "output_type": "stream",
     "text": [
      "Quantité des lignes : 109950743\n",
      "shape: (5, 9)\n",
      "┌────────────┬────────────┬───────────┬───────────┬───┬──────────┬─────────┬───────────┬───────────┐\n",
      "│ event_time ┆ event_type ┆ product_i ┆ category_ ┆ … ┆ brand    ┆ price   ┆ user_id   ┆ user_sess │\n",
      "│ ---        ┆ ---        ┆ d         ┆ id        ┆   ┆ ---      ┆ ---     ┆ ---       ┆ ion       │\n",
      "│ str        ┆ str        ┆ ---       ┆ ---       ┆   ┆ str      ┆ f64     ┆ i64       ┆ ---       │\n",
      "│            ┆            ┆ i64       ┆ i64       ┆   ┆          ┆         ┆           ┆ str       │\n",
      "╞════════════╪════════════╪═══════════╪═══════════╪═══╪══════════╪═════════╪═══════════╪═══════════╡\n",
      "│ 2019-10-01 ┆ view       ┆ 44600062  ┆ 210380745 ┆ … ┆ shiseido ┆ 35.79   ┆ 541312140 ┆ 72d76fde- │\n",
      "│ 00:00:00   ┆            ┆           ┆ 959538772 ┆   ┆          ┆         ┆           ┆ 8bb3-4e00 │\n",
      "│ UTC        ┆            ┆           ┆ 4         ┆   ┆          ┆         ┆           ┆ -8c23-a03 │\n",
      "│            ┆            ┆           ┆           ┆   ┆          ┆         ┆           ┆ 2dfed…    │\n",
      "│ 2019-10-01 ┆ view       ┆ 3900821   ┆ 205301355 ┆ … ┆ aqua     ┆ 33.2    ┆ 554748717 ┆ 9333dfbd- │\n",
      "│ 00:00:00   ┆            ┆           ┆ 232677090 ┆   ┆          ┆         ┆           ┆ b87a-4708 │\n",
      "│ UTC        ┆            ┆           ┆ 5         ┆   ┆          ┆         ┆           ┆ -9857-633 │\n",
      "│            ┆            ┆           ┆           ┆   ┆          ┆         ┆           ┆ 6556b…    │\n",
      "│ 2019-10-01 ┆ view       ┆ 17200506  ┆ 205301355 ┆ … ┆ null     ┆ 543.1   ┆ 519107250 ┆ 566511c2- │\n",
      "│ 00:00:01   ┆            ┆           ┆ 979263247 ┆   ┆          ┆         ┆           ┆ e2e3-422b │\n",
      "│ UTC        ┆            ┆           ┆ 1         ┆   ┆          ┆         ┆           ┆ -b695-cf8 │\n",
      "│            ┆            ┆           ┆           ┆   ┆          ┆         ┆           ┆ e6e79…    │\n",
      "│ 2019-10-01 ┆ view       ┆ 1307067   ┆ 205301355 ┆ … ┆ lenovo   ┆ 251.74  ┆ 550050854 ┆ 7c90fc70- │\n",
      "│ 00:00:01   ┆            ┆           ┆ 892021719 ┆   ┆          ┆         ┆           ┆ 0e80-4590 │\n",
      "│ UTC        ┆            ┆           ┆ 1         ┆   ┆          ┆         ┆           ┆ -96f3-13c │\n",
      "│            ┆            ┆           ┆           ┆   ┆          ┆         ┆           ┆ 02c18…    │\n",
      "│ 2019-10-01 ┆ view       ┆ 1004237   ┆ 205301355 ┆ … ┆ apple    ┆ 1081.98 ┆ 535871217 ┆ c6bd7419- │\n",
      "│ 00:00:04   ┆            ┆           ┆ 563188265 ┆   ┆          ┆         ┆           ┆ 2748-4c56 │\n",
      "│ UTC        ┆            ┆           ┆ 5         ┆   ┆          ┆         ┆           ┆ -95b4-8ce │\n",
      "│            ┆            ┆           ┆           ┆   ┆          ┆         ┆           ┆ c9ff8…    │\n",
      "└────────────┴────────────┴───────────┴───────────┴───┴──────────┴─────────┴───────────┴───────────┘\n",
      "[String, String, Int64, Int64, String, String, Float64, Int64, String]\n",
      "shape: (9, 10)\n",
      "┌───────────┬───────────┬───────────┬───────────┬───┬──────────┬───────────┬───────────┬───────────┐\n",
      "│ describe  ┆ event_tim ┆ event_typ ┆ product_i ┆ … ┆ brand    ┆ price     ┆ user_id   ┆ user_sess │\n",
      "│ ---       ┆ e         ┆ e         ┆ d         ┆   ┆ ---      ┆ ---       ┆ ---       ┆ ion       │\n",
      "│ str       ┆ ---       ┆ ---       ┆ ---       ┆   ┆ str      ┆ f64       ┆ f64       ┆ ---       │\n",
      "│           ┆ str       ┆ str       ┆ f64       ┆   ┆          ┆           ┆           ┆ str       │\n",
      "╞═══════════╪═══════════╪═══════════╪═══════════╪═══╪══════════╪═══════════╪═══════════╪═══════════╡\n",
      "│ count     ┆ 109950743 ┆ 109950743 ┆ 1.0995074 ┆ … ┆ 94619500 ┆ 1.0995074 ┆ 1.0995074 ┆ 109950731 │\n",
      "│           ┆           ┆           ┆ 3e8       ┆   ┆          ┆ 3e8       ┆ 3e8       ┆           │\n",
      "│ null_coun ┆ 0         ┆ 0         ┆ 0.0       ┆ … ┆ 15331243 ┆ 0.0       ┆ 0.0       ┆ 12        │\n",
      "│ t         ┆           ┆           ┆           ┆   ┆          ┆           ┆           ┆           │\n",
      "│ mean      ┆ null      ┆ null      ┆ 1.1756e7  ┆ … ┆ null     ┆ 291.63480 ┆ 5.3667e8  ┆ null      │\n",
      "│           ┆           ┆           ┆           ┆   ┆          ┆ 2         ┆           ┆           │\n",
      "│ std       ┆ null      ┆ null      ┆ 1.5436e7  ┆ … ┆ null     ┆ 356.67997 ┆ 2.1452e7  ┆ null      │\n",
      "│           ┆           ┆           ┆           ┆   ┆          ┆ 1         ┆           ┆           │\n",
      "│ min       ┆ 2019-10-0 ┆ cart      ┆ 1.000365e ┆ … ┆ a-case   ┆ 0.0       ┆ 1.0300217 ┆ 00000042- │\n",
      "│           ┆ 1         ┆           ┆ 6         ┆   ┆          ┆           ┆ e7        ┆ 3e3f-42f9 │\n",
      "│           ┆ 00:00:00  ┆           ┆           ┆   ┆          ┆           ┆           ┆ -810d-f3d │\n",
      "│           ┆ UTC       ┆           ┆           ┆   ┆          ┆           ┆           ┆ 26413…    │\n",
      "│ 25%       ┆ null      ┆ null      ┆ 1.005256e ┆ … ┆ null     ┆ 67.96     ┆ 5.1626286 ┆ null      │\n",
      "│           ┆           ┆           ┆ 6         ┆   ┆          ┆           ┆ 2e8       ┆           │\n",
      "│ 50%       ┆ null      ┆ null      ┆ 5.100396e ┆ … ┆ null     ┆ 164.93    ┆ 5.3264154 ┆ null      │\n",
      "│           ┆           ┆           ┆ 6         ┆   ┆          ┆           ┆ 4e8       ┆           │\n",
      "│ 75%       ┆ null      ┆ null      ┆ 1.7200513 ┆ … ┆ null     ┆ 360.11    ┆ 5.5633118 ┆ null      │\n",
      "│           ┆           ┆           ┆ e7        ┆   ┆          ┆           ┆ 6e8       ┆           │\n",
      "│ max       ┆ 2019-11-3 ┆ view      ┆ 1.0002855 ┆ … ┆ zyxel    ┆ 2574.07   ┆ 5.7996985 ┆ fffffde2- │\n",
      "│           ┆ 0         ┆           ┆ 4e8       ┆   ┆          ┆           ┆ 1e8       ┆ 4522-4b44 │\n",
      "│           ┆ 23:59:59  ┆           ┆           ┆   ┆          ┆           ┆           ┆ -8a32-510 │\n",
      "│           ┆ UTC       ┆           ┆           ┆   ┆          ┆           ┆           ┆ c5573…    │\n",
      "└───────────┴───────────┴───────────┴───────────┴───┴──────────┴───────────┴───────────┴───────────┘\n",
      "Temps d'exécution : 8.1 secondes\n"
     ]
    }
   ],
   "source": [
    "ex = 2\n",
    "start_time = time.time()\n",
    "print(f\"Quantité des lignes : {data.height}\")\n",
    "\n",
    "print(data.head())\n",
    "\n",
    "print(data.dtypes)\n",
    "\n",
    "print(data.describe())\n",
    "\n",
    "end_time = time.time()\n",
    "execution_time = round(end_time - start_time, 2)\n",
    "timing.loc[ex, 'Timing_polars'] = execution_time\n",
    "\n",
    "print(f\"Temps d'exécution : {execution_time} secondes\")"
   ],
   "metadata": {
    "collapsed": false,
    "ExecuteTime": {
     "end_time": "2024-01-09T07:45:26.401267900Z",
     "start_time": "2024-01-09T07:45:18.311393200Z"
    }
   },
   "id": "e0fbec2d15cf6a49",
   "execution_count": 192
  },
  {
   "cell_type": "markdown",
   "source": [
    "3.\tAffichage de la quantité de produits, marques et utilisateurs dans le dataset, sans répétitions"
   ],
   "metadata": {
    "collapsed": false
   },
   "id": "7326561025a101c7"
  },
  {
   "cell_type": "code",
   "outputs": [
    {
     "name": "stdout",
     "output_type": "stream",
     "text": [
      "Quantité de produits uniques dans le dataset : 206876\n",
      "Quantité de marques uniques dans le dataset : 4304\n",
      "Quantité d'utilisateurs uniques dans le dataset : 5316649\n",
      "Temps d'exécution : 5.76 secondes\n"
     ]
    }
   ],
   "source": [
    "ex = 3\n",
    "start_time = time.time()\n",
    "\n",
    "print(f\"Quantité de produits uniques dans le dataset : {data.select(['product_id']).unique().height}\")\n",
    "print(f\"Quantité de marques uniques dans le dataset : {data.select(['brand']).unique().height}\")\n",
    "print(f\"Quantité d'utilisateurs uniques dans le dataset : {data.select(['user_id']).unique().height}\")\n",
    "\n",
    "end_time = time.time()\n",
    "execution_time = round(end_time - start_time, 2)\n",
    "timing.loc[ex, 'Timing_polars'] = execution_time\n",
    "\n",
    "print(f\"Temps d'exécution : {execution_time} secondes\")"
   ],
   "metadata": {
    "collapsed": false,
    "ExecuteTime": {
     "end_time": "2024-01-09T07:45:32.168709Z",
     "start_time": "2024-01-09T07:45:26.400267600Z"
    }
   },
   "id": "124fdcf29bc3cfc8",
   "execution_count": 193
  },
  {
   "cell_type": "markdown",
   "source": [
    "4. Affichage du top 5 de marques et catégories avec le prix moyen le plus élevé"
   ],
   "metadata": {
    "collapsed": false
   },
   "id": "eaa7fcb3e95c934b"
  },
  {
   "cell_type": "code",
   "outputs": [
    {
     "name": "stdout",
     "output_type": "stream",
     "text": [
      "shape: (5, 2)\n",
      "┌─────────────┬───────────┐\n",
      "│ brand       ┆ avg_price │\n",
      "│ ---         ┆ ---       │\n",
      "│ str         ┆ f64       │\n",
      "╞═════════════╪═══════════╡\n",
      "│ pinarello   ┆ 2533.24   │\n",
      "│ nordictrack ┆ 2522.59   │\n",
      "│ kessler     ┆ 2372.0    │\n",
      "│ yjfitness   ┆ 2344.98   │\n",
      "│ climadiff   ┆ 2261.95   │\n",
      "└─────────────┴───────────┘\n",
      "shape: (5, 2)\n",
      "┌─────────────────────┬───────────┐\n",
      "│ category_id         ┆ avg_price │\n",
      "│ ---                 ┆ ---       │\n",
      "│ i64                 ┆ f64       │\n",
      "╞═════════════════════╪═══════════╡\n",
      "│ 2104564977263182827 ┆ 1673.14   │\n",
      "│ 2059484601444729123 ┆ 1666.93   │\n",
      "│ 2053013564523807647 ┆ 1527.04   │\n",
      "│ 2144356630513320518 ┆ 1489.79   │\n",
      "│ 2179887855134835524 ┆ 1381.51   │\n",
      "└─────────────────────┴───────────┘\n",
      "Temps d'exécution : 2.93 secondes\n"
     ]
    }
   ],
   "source": [
    "ex = 4\n",
    "start_time = time.time()\n",
    "\n",
    "result_brand = data.group_by('brand').agg(avg_price = pl.col('price').mean().round(2))\n",
    "result_brand = result_brand.sort(by='avg_price', descending=True)\n",
    "print(result_brand.head())\n",
    "\n",
    "result_category = data.group_by('category_id').agg(avg_price = pl.col('price').mean().round(2))\n",
    "result_category = result_category.sort(by='avg_price', descending=True)\n",
    "print(result_category.head())\n",
    "\n",
    "end_time = time.time()\n",
    "execution_time = round(end_time - start_time, 2)\n",
    "timing.loc[ex, 'Timing_polars'] = execution_time\n",
    "\n",
    "print(f\"Temps d'exécution : {execution_time} secondes\")"
   ],
   "metadata": {
    "collapsed": false,
    "ExecuteTime": {
     "end_time": "2024-01-09T07:45:35.108632100Z",
     "start_time": "2024-01-09T07:45:32.171566500Z"
    }
   },
   "id": "83cb7e0d0e9f0323",
   "execution_count": 194
  },
  {
   "cell_type": "markdown",
   "source": [
    "5.\tCalcul du min, du max et de la moyenne de prix par marque et par catégorie"
   ],
   "metadata": {
    "collapsed": false
   },
   "id": "1c8caca8e6b33d2c"
  },
  {
   "cell_type": "code",
   "outputs": [
    {
     "name": "stdout",
     "output_type": "stream",
     "text": [
      "shape: (5, 4)\n",
      "┌───────────┬───────────┬───────────┬───────────┐\n",
      "│ brand     ┆ min_price ┆ max_price ┆ avg_price │\n",
      "│ ---       ┆ ---       ┆ ---       ┆ ---       │\n",
      "│ str       ┆ f64       ┆ f64       ┆ f64       │\n",
      "╞═══════════╪═══════════╪═══════════╪═══════════╡\n",
      "│ glanzen   ┆ 5.96      ┆ 5.96      ┆ 5.96      │\n",
      "│ millenium ┆ 72.07     ┆ 72.07     ┆ 72.07     │\n",
      "│ buggy     ┆ 241.86    ┆ 241.86    ┆ 241.86    │\n",
      "│ veho      ┆ 25.41     ┆ 25.41     ┆ 25.41     │\n",
      "│ tissot    ┆ 648.43    ┆ 648.43    ┆ 648.43    │\n",
      "└───────────┴───────────┴───────────┴───────────┘\n",
      "shape: (5, 4)\n",
      "┌─────────────────────┬───────────┬───────────┬───────────┐\n",
      "│ category_id         ┆ min_price ┆ max_price ┆ avg_price │\n",
      "│ ---                 ┆ ---       ┆ ---       ┆ ---       │\n",
      "│ i64                 ┆ f64       ┆ f64       ┆ f64       │\n",
      "╞═════════════════════╪═══════════╪═══════════╪═══════════╡\n",
      "│ 2053013559071212141 ┆ 1.01      ┆ 1.01      ┆ 1.01      │\n",
      "│ 2134905044833666047 ┆ 278.78    ┆ 278.78    ┆ 278.78    │\n",
      "│ 2053013562946749253 ┆ 24.69     ┆ 24.69     ┆ 24.69     │\n",
      "│ 2053013566503518219 ┆ 92.15     ┆ 92.15     ┆ 92.15     │\n",
      "│ 2053013555262783879 ┆ 65.94     ┆ 65.94     ┆ 65.94     │\n",
      "└─────────────────────┴───────────┴───────────┴───────────┘\n",
      "Temps d'exécution : 3.1 secondes\n"
     ]
    }
   ],
   "source": [
    "ex = 5\n",
    "start_time = time.time()\n",
    "\n",
    "result_brand_price = data.group_by('brand').agg(\n",
    "    min_price = pl.col('price').mean().round(2),\n",
    "    max_price = pl.col('price').mean().round(2),\n",
    "    avg_price = pl.col('price').mean().round(2))\n",
    "print(result_brand_price.head())\n",
    "\n",
    "result_category_price = data.group_by('category_id').agg(\n",
    "    min_price = pl.col('price').mean().round(2),\n",
    "    max_price = pl.col('price').mean().round(2),\n",
    "    avg_price = pl.col('price').mean().round(2))\n",
    "print(result_category_price.head())\n",
    "\n",
    "end_time = time.time()\n",
    "execution_time = round(end_time - start_time, 2)\n",
    "timing.loc[ex, 'Timing_polars'] = execution_time\n",
    "\n",
    "print(f\"Temps d'exécution : {execution_time} secondes\")"
   ],
   "metadata": {
    "collapsed": false,
    "ExecuteTime": {
     "end_time": "2024-01-09T07:45:38.208623100Z",
     "start_time": "2024-01-09T07:45:35.107615900Z"
    }
   },
   "id": "5ed476915004c9d7",
   "execution_count": 195
  },
  {
   "cell_type": "markdown",
   "source": [
    "6.\tAffichage des 5 prix les plus élevés"
   ],
   "metadata": {
    "collapsed": false
   },
   "id": "4319a7901caeaec7"
  },
  {
   "cell_type": "code",
   "outputs": [
    {
     "name": "stdout",
     "output_type": "stream",
     "text": [
      "shape: (5, 1)\n",
      "┌─────────┐\n",
      "│ price   │\n",
      "│ ---     │\n",
      "│ f64     │\n",
      "╞═════════╡\n",
      "│ 2574.07 │\n",
      "│ 2574.04 │\n",
      "│ 2573.99 │\n",
      "│ 2573.81 │\n",
      "│ 2573.79 │\n",
      "└─────────┘\n",
      "Temps d'exécution : 0.4 secondes\n"
     ]
    }
   ],
   "source": [
    "ex = 6\n",
    "start_time = time.time()\n",
    "\n",
    "result_price = data.select(['price']).unique().sort(by='price', descending=True)\n",
    "print(result_price.head())\n",
    "\n",
    "end_time = time.time()\n",
    "execution_time = round(end_time - start_time, 2)\n",
    "timing.loc[ex, 'Timing_polars'] = execution_time\n",
    "\n",
    "print(f\"Temps d'exécution : {execution_time} secondes\")"
   ],
   "metadata": {
    "collapsed": false,
    "ExecuteTime": {
     "end_time": "2024-01-09T07:45:38.617029800Z",
     "start_time": "2024-01-09T07:45:38.210623700Z"
    }
   },
   "id": "742fd2552bdfcc9b",
   "execution_count": 196
  },
  {
   "cell_type": "markdown",
   "source": [
    "7.\tAffichage de la quantité d’articles par marque et par catégorie, en utilisant une fonction d’agrégation"
   ],
   "metadata": {
    "collapsed": false
   },
   "id": "5670584fafe48c3b"
  },
  {
   "cell_type": "code",
   "outputs": [
    {
     "name": "stdout",
     "output_type": "stream",
     "text": [
      "shape: (5, 2)\n",
      "┌─────────────┬──────────────┐\n",
      "│ brand       ┆ qty_articles │\n",
      "│ ---         ┆ ---          │\n",
      "│ str         ┆ u32          │\n",
      "╞═════════════╪══════════════╡\n",
      "│ noktamakro  ┆ 3670         │\n",
      "│ wowwee      ┆ 1006         │\n",
      "│ tdmelectric ┆ 52           │\n",
      "│ gamerstorm  ┆ 54           │\n",
      "│ bulgari     ┆ 22258        │\n",
      "└─────────────┴──────────────┘\n",
      "shape: (5, 2)\n",
      "┌─────────────────────┬──────────────┐\n",
      "│ category_id         ┆ qty_articles │\n",
      "│ ---                 ┆ ---          │\n",
      "│ i64                 ┆ u32          │\n",
      "╞═════════════════════╪══════════════╡\n",
      "│ 2053013556487520725 ┆ 162057       │\n",
      "│ 2053013559440310913 ┆ 14079        │\n",
      "│ 2053013552989470973 ┆ 55932        │\n",
      "│ 2053013558945383017 ┆ 132729       │\n",
      "│ 2053013559071212141 ┆ 2480         │\n",
      "└─────────────────────┴──────────────┘\n",
      "Temps d'exécution : 2.83 secondes\n"
     ]
    }
   ],
   "source": [
    "ex = 7\n",
    "start_time = time.time()\n",
    "\n",
    "result_brand_qty = data.group_by('brand').agg(qty_articles = pl.col('price').count())\n",
    "print(result_brand_qty.head())\n",
    "\n",
    "result_category_qty = data.group_by('category_id').agg(qty_articles = pl.col('price').count())\n",
    "print(result_category_qty.head())\n",
    "\n",
    "end_time = time.time()\n",
    "execution_time = round(end_time - start_time, 2)\n",
    "timing.loc[ex, 'Timing_polars'] = execution_time\n",
    "\n",
    "print(f\"Temps d'exécution : {execution_time} secondes\")"
   ],
   "metadata": {
    "collapsed": false,
    "ExecuteTime": {
     "end_time": "2024-01-09T07:45:41.456447Z",
     "start_time": "2024-01-09T07:45:38.616017500Z"
    }
   },
   "id": "bea24c74020b6809",
   "execution_count": 197
  },
  {
   "cell_type": "markdown",
   "source": [
    "8. Affichage de la quantité d’événements par type, en utilisant une fonction d’agrégation"
   ],
   "metadata": {
    "collapsed": false
   },
   "id": "787ed51b18a50180"
  },
  {
   "cell_type": "code",
   "outputs": [
    {
     "name": "stdout",
     "output_type": "stream",
     "text": [
      "shape: (3, 2)\n",
      "┌────────────┬────────────┐\n",
      "│ event_type ┆ qty_events │\n",
      "│ ---        ┆ ---        │\n",
      "│ str        ┆ u32        │\n",
      "╞════════════╪════════════╡\n",
      "│ cart       ┆ 3955446    │\n",
      "│ view       ┆ 104335509  │\n",
      "│ purchase   ┆ 1659788    │\n",
      "└────────────┴────────────┘\n",
      "Temps d'exécution : 2.25 secondes\n"
     ]
    }
   ],
   "source": [
    "ex = 8\n",
    "start_time = time.time()\n",
    "\n",
    "result_event_type = data.group_by('event_type').agg(qty_events = pl.col('event_time').count())\n",
    "print(result_event_type.head())\n",
    "\n",
    "end_time = time.time()\n",
    "execution_time = round(end_time - start_time, 2)\n",
    "timing.loc[ex, 'Timing_polars'] = execution_time\n",
    "\n",
    "print(f\"Temps d'exécution : {execution_time} secondes\")"
   ],
   "metadata": {
    "collapsed": false,
    "ExecuteTime": {
     "end_time": "2024-01-09T07:45:43.712639300Z",
     "start_time": "2024-01-09T07:45:41.454940800Z"
    }
   },
   "id": "96fbe07c118f0885",
   "execution_count": 198
  },
  {
   "cell_type": "markdown",
   "source": [
    "9.\tCréation et affichage d'un tableau contenant la quantité d’événements de chaque type par marque"
   ],
   "metadata": {
    "collapsed": false
   },
   "id": "f70428c77378ec59"
  },
  {
   "cell_type": "code",
   "outputs": [
    {
     "name": "stdout",
     "output_type": "stream",
     "text": [
      "shape: (5, 3)\n",
      "┌────────────┬─────────────┬────────────┐\n",
      "│ event_type ┆ brand       ┆ qty_events │\n",
      "│ ---        ┆ ---         ┆ ---        │\n",
      "│ str        ┆ str         ┆ u32        │\n",
      "╞════════════╪═════════════╪════════════╡\n",
      "│ view       ┆ baden       ┆ 395551     │\n",
      "│ purchase   ┆ xiaomi      ┆ 124908     │\n",
      "│ view       ┆ tcl         ┆ 119998     │\n",
      "│ view       ┆ plantronics ┆ 30935      │\n",
      "│ view       ┆ m-audio     ┆ 13188      │\n",
      "└────────────┴─────────────┴────────────┘\n",
      "Temps d'exécution : 1.17 secondes\n"
     ]
    }
   ],
   "source": [
    "ex = 9\n",
    "start_time = time.time()\n",
    "\n",
    "result_event_type_brand = data.group_by(['event_type', 'brand']).agg(qty_events = pl.col('event_time').count())\n",
    "print(result_event_type_brand.head())\n",
    "\n",
    "end_time = time.time()\n",
    "execution_time = round(end_time - start_time, 2)\n",
    "timing.loc[ex, 'Timing_polars'] = execution_time\n",
    "\n",
    "print(f\"Temps d'exécution : {execution_time} secondes\")"
   ],
   "metadata": {
    "collapsed": false,
    "ExecuteTime": {
     "end_time": "2024-01-09T07:45:44.890717600Z",
     "start_time": "2024-01-09T07:45:43.709638800Z"
    }
   },
   "id": "7fd9acc98f814fb2",
   "execution_count": 199
  },
  {
   "cell_type": "markdown",
   "source": [
    "10. Création et affichage d'un tableau contenant  la quantité d’événements de chaque type par marque et utilisateur"
   ],
   "metadata": {
    "collapsed": false
   },
   "id": "ad355b3cefa5a781"
  },
  {
   "cell_type": "code",
   "outputs": [
    {
     "name": "stdout",
     "output_type": "stream",
     "text": [
      "shape: (5, 4)\n",
      "┌────────────┬─────────┬───────────┬────────────┐\n",
      "│ event_type ┆ brand   ┆ user_id   ┆ qty_events │\n",
      "│ ---        ┆ ---     ┆ ---       ┆ ---        │\n",
      "│ str        ┆ str     ┆ i64       ┆ u32        │\n",
      "╞════════════╪═════════╪═══════════╪════════════╡\n",
      "│ view       ┆ maxwell ┆ 539194858 ┆ 1          │\n",
      "│ view       ┆ oasis   ┆ 512796782 ┆ 1          │\n",
      "│ view       ┆ apple   ┆ 517062545 ┆ 3          │\n",
      "│ view       ┆ null    ┆ 514933060 ┆ 6          │\n",
      "│ view       ┆ xiaomi  ┆ 521149112 ┆ 4          │\n",
      "└────────────┴─────────┴───────────┴────────────┘\n",
      "Temps d'exécution : 4.57 secondes\n"
     ]
    }
   ],
   "source": [
    "ex = 10\n",
    "start_time = time.time()\n",
    "\n",
    "result_event_type_brand_user = data.group_by(['event_type', 'brand', 'user_id']).agg(qty_events = pl.col('event_time').count())\n",
    "print(result_event_type_brand_user.head())\n",
    "\n",
    "end_time = time.time()\n",
    "execution_time = round(end_time - start_time, 2)\n",
    "timing.loc[ex, 'Timing_polars'] = execution_time\n",
    "\n",
    "print(f\"Temps d'exécution : {execution_time} secondes\")"
   ],
   "metadata": {
    "collapsed": false,
    "ExecuteTime": {
     "end_time": "2024-01-09T07:45:49.462517900Z",
     "start_time": "2024-01-09T07:45:44.889716600Z"
    }
   },
   "id": "2c24d00991762522",
   "execution_count": 200
  },
  {
   "cell_type": "markdown",
   "source": [
    "11. Affichage du pourcentage de données vides ou nulles (valeurs manquantes) par colonne"
   ],
   "metadata": {
    "collapsed": false
   },
   "id": "994dc1cb6934817d"
  },
  {
   "cell_type": "code",
   "outputs": [
    {
     "name": "stdout",
     "output_type": "stream",
     "text": [
      "shape: (1, 9)\n",
      "┌────────────┬────────────┬────────────┬────────────┬───┬───────────┬───────┬─────────┬────────────┐\n",
      "│ event_time ┆ event_type ┆ product_id ┆ category_i ┆ … ┆ brand     ┆ price ┆ user_id ┆ user_sessi │\n",
      "│ ---        ┆ ---        ┆ ---        ┆ d          ┆   ┆ ---       ┆ ---   ┆ ---     ┆ on         │\n",
      "│ f64        ┆ f64        ┆ f64        ┆ ---        ┆   ┆ f64       ┆ f64   ┆ f64     ┆ ---        │\n",
      "│            ┆            ┆            ┆ f64        ┆   ┆           ┆       ┆         ┆ f64        │\n",
      "╞════════════╪════════════╪════════════╪════════════╪═══╪═══════════╪═══════╪═════════╪════════════╡\n",
      "│ 0.0        ┆ 0.0        ┆ 0.0        ┆ 0.0        ┆ … ┆ 13.943738 ┆ 0.0   ┆ 0.0     ┆ 0.000011   │\n",
      "└────────────┴────────────┴────────────┴────────────┴───┴───────────┴───────┴─────────┴────────────┘\n",
      "Temps d'exécution : 0.02 secondes\n"
     ]
    }
   ],
   "source": [
    "ex = 11\n",
    "start_time = time.time()\n",
    "\n",
    "print(data.null_count()*100/data.height)\n",
    "\n",
    "end_time = time.time()\n",
    "execution_time = round(end_time - start_time, 2)\n",
    "timing.loc[ex, 'Timing_polars'] = execution_time\n",
    "\n",
    "print(f\"Temps d'exécution : {execution_time} secondes\")"
   ],
   "metadata": {
    "collapsed": false,
    "ExecuteTime": {
     "end_time": "2024-01-09T07:45:49.483010800Z",
     "start_time": "2024-01-09T07:45:49.479656Z"
    }
   },
   "id": "9a81b874bdc736f5",
   "execution_count": 201
  },
  {
   "cell_type": "markdown",
   "source": [
    "12. Suppression de lignes vides sur l’ensemble de colonnes où le total de valeurs manquants ne dépasse pas un 15%"
   ],
   "metadata": {
    "collapsed": false
   },
   "id": "24c7b69e850946ba"
  },
  {
   "cell_type": "code",
   "outputs": [
    {
     "name": "stdout",
     "output_type": "stream",
     "text": [
      "Lignes avant suppression : 109950743\n",
      "Colonnes à filtrer : ['brand', 'user_session']\n",
      "Lignes après suppression : 94619490\n",
      "Temps d'exécution : 13.25 secondes\n"
     ]
    }
   ],
   "source": [
    "ex = 12\n",
    "start_time = time.time()\n",
    "\n",
    "total = data.height\n",
    "print(f\"Lignes avant suppression : {total}\")\n",
    "\n",
    "col_to_del = []\n",
    "for col in data.columns:\n",
    "    is_na_per = (data.select(pl.col(col)).null_count()*100/total).item()\n",
    "    if is_na_per != 0 and is_na_per <= 15:\n",
    "        col_to_del.append(col)\n",
    "    \n",
    "print(f\"Colonnes à filtrer : {col_to_del}\")\n",
    "filtered_data = data.drop_nulls(subset=col_to_del)\n",
    "\n",
    "total = filtered_data.height\n",
    "print(f\"Lignes après suppression : {total}\")\n",
    "\n",
    "end_time = time.time()\n",
    "execution_time = round(end_time - start_time, 2)\n",
    "timing.loc[ex, 'Timing_polars'] = execution_time\n",
    "\n",
    "print(f\"Temps d'exécution : {execution_time} secondes\")"
   ],
   "metadata": {
    "collapsed": false,
    "ExecuteTime": {
     "end_time": "2024-01-09T07:46:02.747710100Z",
     "start_time": "2024-01-09T07:45:49.483010800Z"
    }
   },
   "id": "60399aa755195a62",
   "execution_count": 202
  },
  {
   "cell_type": "code",
   "outputs": [
    {
     "data": {
      "text/plain": "    Timing_pandas  Timing_polars\n1           83.40          32.42\n2            8.81           8.10\n3            6.31           5.76\n4            6.10           2.93\n5            6.76           3.10\n6            0.83           0.40\n7            5.58           2.83\n8            4.33           2.25\n9           10.72           1.17\n10          28.13           4.57\n11           8.79           0.02\n12          20.26          13.25",
      "text/html": "<div>\n<style scoped>\n    .dataframe tbody tr th:only-of-type {\n        vertical-align: middle;\n    }\n\n    .dataframe tbody tr th {\n        vertical-align: top;\n    }\n\n    .dataframe thead th {\n        text-align: right;\n    }\n</style>\n<table border=\"1\" class=\"dataframe\">\n  <thead>\n    <tr style=\"text-align: right;\">\n      <th></th>\n      <th>Timing_pandas</th>\n      <th>Timing_polars</th>\n    </tr>\n  </thead>\n  <tbody>\n    <tr>\n      <th>1</th>\n      <td>83.40</td>\n      <td>32.42</td>\n    </tr>\n    <tr>\n      <th>2</th>\n      <td>8.81</td>\n      <td>8.10</td>\n    </tr>\n    <tr>\n      <th>3</th>\n      <td>6.31</td>\n      <td>5.76</td>\n    </tr>\n    <tr>\n      <th>4</th>\n      <td>6.10</td>\n      <td>2.93</td>\n    </tr>\n    <tr>\n      <th>5</th>\n      <td>6.76</td>\n      <td>3.10</td>\n    </tr>\n    <tr>\n      <th>6</th>\n      <td>0.83</td>\n      <td>0.40</td>\n    </tr>\n    <tr>\n      <th>7</th>\n      <td>5.58</td>\n      <td>2.83</td>\n    </tr>\n    <tr>\n      <th>8</th>\n      <td>4.33</td>\n      <td>2.25</td>\n    </tr>\n    <tr>\n      <th>9</th>\n      <td>10.72</td>\n      <td>1.17</td>\n    </tr>\n    <tr>\n      <th>10</th>\n      <td>28.13</td>\n      <td>4.57</td>\n    </tr>\n    <tr>\n      <th>11</th>\n      <td>8.79</td>\n      <td>0.02</td>\n    </tr>\n    <tr>\n      <th>12</th>\n      <td>20.26</td>\n      <td>13.25</td>\n    </tr>\n  </tbody>\n</table>\n</div>"
     },
     "execution_count": 203,
     "metadata": {},
     "output_type": "execute_result"
    }
   ],
   "source": [
    "timing"
   ],
   "metadata": {
    "collapsed": false,
    "ExecuteTime": {
     "end_time": "2024-01-09T07:46:02.825341300Z",
     "start_time": "2024-01-09T07:46:02.754381Z"
    }
   },
   "id": "9cbfb5e1498b7ba9",
   "execution_count": 203
  },
  {
   "cell_type": "code",
   "outputs": [],
   "source": [
    "timing.to_csv(timing_path)"
   ],
   "metadata": {
    "collapsed": false,
    "ExecuteTime": {
     "end_time": "2024-01-09T07:46:21.625974100Z",
     "start_time": "2024-01-09T07:46:21.604396500Z"
    }
   },
   "id": "2de7cff102efa097",
   "execution_count": 204
  }
 ],
 "metadata": {
  "kernelspec": {
   "display_name": "Python 3",
   "language": "python",
   "name": "python3"
  },
  "language_info": {
   "codemirror_mode": {
    "name": "ipython",
    "version": 2
   },
   "file_extension": ".py",
   "mimetype": "text/x-python",
   "name": "python",
   "nbconvert_exporter": "python",
   "pygments_lexer": "ipython2",
   "version": "2.7.6"
  }
 },
 "nbformat": 4,
 "nbformat_minor": 5
}
